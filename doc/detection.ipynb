{
 "cells": [
  {
   "cell_type": "code",
   "execution_count": 17,
   "metadata": {},
   "outputs": [],
   "source": [
    "#import library\n",
    "import os\n",
    "import glob\n",
    "import itertools\n",
    "import collections"
   ]
  },
  {
   "cell_type": "markdown",
   "metadata": {},
   "source": [
    "# 1. Clean and output 5 ground true files"
   ]
  },
  {
   "cell_type": "code",
   "execution_count": 18,
   "metadata": {},
   "outputs": [],
   "source": [
    "#set file path\n",
    "groud_truth_path = '../data/ground_truth/'\n",
    "if not os.path.exists('../output/Detection_Group/'):\n",
    "    os.mkdir('../output/Detection_Group/')\n",
    "output_path = '../output/Detection_Group/'\n",
    "\n",
    "#clean file function\n",
    "def clean(word):\n",
    "    word = word.lower()\n",
    "    index = [c for c in word if c not in list('abcdefghijklmnopqrstuvwxyz ')]\n",
    "    if len(index) == 0:\n",
    "        return word\n",
    "    else:\n",
    "        return ''\n",
    "\n",
    "#clean file and create 5 files of ground true\n",
    "for i in range(1, 6):\n",
    "    with open(os.path.join(output_path, 'group'+str(i)+'.txt'), 'w') as output0:\n",
    "        filelist = glob.glob(os.path.join(groud_truth_path, 'group'+str(i)+'*.txt'))\n",
    "        for file in filelist:\n",
    "            with open(file, 'r') as input0:\n",
    "                for line in input0:\n",
    "                    line = line.strip().split()\n",
    "                    line = [clean(word) for word in line]\n",
    "                    output0.write(' '.join(line)+'\\n')"
   ]
  },
  {
   "cell_type": "markdown",
   "metadata": {},
   "source": [
    "# 2. Convert groud true files to dictionary"
   ]
  },
  {
   "cell_type": "code",
   "execution_count": 19,
   "metadata": {},
   "outputs": [],
   "source": [
    "def char_to_index(char):\n",
    "    return ord(char)-ord('a')\n",
    "\n",
    "# create dictionary\n",
    "dic_by_group = collections.defaultdict(dict)\n",
    "for group in range(1, 6):\n",
    "    words_by_len = collections.defaultdict(set)\n",
    "    with open(os.path.join(output_path, 'group'+str(group)+'.txt'), 'r') as input0:\n",
    "        for line in input0:\n",
    "            line = line.strip().split()\n",
    "            if len(line) != 0:\n",
    "                for word in line:\n",
    "                    words_by_len[len(word)].add(word)\n",
    "                \n",
    "    dic_by_length = collections.defaultdict(dict)\n",
    "    for length in words_by_len:\n",
    "        for i, j in itertools.combinations(range(length), 2):\n",
    "            matrix = [[0]*26 for _ in range(26)]\n",
    "            for word in words_by_len[length]:\n",
    "                matrix[char_to_index(word[i])][char_to_index(word[j])] = 1\n",
    "                dic_by_length[length][(i,j)] = matrix\n",
    "    dic_by_group[group] = dic_by_length"
   ]
  },
  {
   "cell_type": "markdown",
   "metadata": {},
   "source": [
    "# 3.Create 5 ORC test files"
   ]
  },
  {
   "cell_type": "code",
   "execution_count": 20,
   "metadata": {},
   "outputs": [],
   "source": [
    "test_path = '../data/tesseract/'\n",
    "for i in range(1, 6):\n",
    "    with open(os.path.join(output_path, 'group'+str(i)+'orc.txt'), 'w') as output0:\n",
    "        filelist = glob.glob(os.path.join(test_path, 'group'+str(i)+'*.txt'))\n",
    "        for file in filelist:\n",
    "            with open(file, 'r') as input0:\n",
    "                for line in input0:\n",
    "                    line = line.strip().split()\n",
    "                    line = [clean(word) for word in line]\n",
    "                    output0.write(' '.join(line)+'\\n')"
   ]
  },
  {
   "cell_type": "markdown",
   "metadata": {},
   "source": [
    "# 4.Detect error based on the dictionary we create"
   ]
  },
  {
   "cell_type": "code",
   "execution_count": 21,
   "metadata": {},
   "outputs": [],
   "source": [
    "def detect(group):\n",
    "    Detection_list=[]\n",
    "    with open(output_path+'group'+str(group)+'orc.txt', 'r') as file:\n",
    "        for line in file:\n",
    "            for words in line.strip().split():\n",
    "                list1=[]\n",
    "                if len(words)==1:\n",
    "                    if words == \"a\" or words==\"i\":\n",
    "                        Detection_list.append(1)\n",
    "                    else:\n",
    "                        Detection_list.append(0)\n",
    "                elif len(words) not in dic_by_group[group].keys() or not dic_by_group[group][len(words)]:\n",
    "                    Detection_list.append(0)\n",
    "                else:\n",
    "                    for i, j in itertools.combinations(range(len(words)),2):\n",
    "                        key = (i, j)\n",
    "                        matrix=dic_by_group[group][len(words)][key]\n",
    "                        \n",
    "                        if matrix[char_to_index(words[i])][char_to_index(words[j])] == 1:\n",
    "                            list1.append(1)\n",
    "                        else:\n",
    "                            list1.append(0)\n",
    "                    if any(item == 0 for item in list1):\n",
    "                        Detection_list.append(0)\n",
    "                    else:\n",
    "                        Detection_list.append(1)\n",
    "    return Detection_list"
   ]
  },
  {
   "cell_type": "code",
   "execution_count": 22,
   "metadata": {},
   "outputs": [],
   "source": [
    "# detect error for 5 groups\n",
    "err=[detect(x) for x in range(1,6)]"
   ]
  },
  {
   "cell_type": "markdown",
   "metadata": {},
   "source": [
    "# 5.Calculate the error rate"
   ]
  },
  {
   "cell_type": "code",
   "execution_count": 23,
   "metadata": {},
   "outputs": [
    {
     "data": {
      "text/plain": [
       "0.25692594509744504"
      ]
     },
     "execution_count": 23,
     "metadata": {},
     "output_type": "execute_result"
    }
   ],
   "source": [
    "1-sum([sum(x) for x in err])/sum([len(x) for x in err])"
   ]
  }
 ],
 "metadata": {
  "kernelspec": {
   "display_name": "Python 3",
   "language": "python",
   "name": "python3"
  },
  "language_info": {
   "codemirror_mode": {
    "name": "ipython",
    "version": 3
   },
   "file_extension": ".py",
   "mimetype": "text/x-python",
   "name": "python",
   "nbconvert_exporter": "python",
   "pygments_lexer": "ipython3",
   "version": "3.7.1"
  }
 },
 "nbformat": 4,
 "nbformat_minor": 2
}
